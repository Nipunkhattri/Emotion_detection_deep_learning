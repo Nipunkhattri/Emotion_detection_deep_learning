{
 "cells": [
  {
   "cell_type": "code",
   "execution_count": 1,
   "id": "b2facf6d-29e8-4d51-9c9c-0d7e0d30ba89",
   "metadata": {},
   "outputs": [
    {
     "name": "stdout",
     "output_type": "stream",
     "text": [
      "Num GPUs Available:  1\n"
     ]
    }
   ],
   "source": [
    "import tensorflow as tf\n",
    "print(\"Num GPUs Available: \", len(tf.config.list_physical_devices('GPU')))"
   ]
  },
  {
   "cell_type": "code",
   "execution_count": 2,
   "id": "dc1461ff-57f5-444a-ad60-acfc1c0d9bd4",
   "metadata": {},
   "outputs": [],
   "source": [
    "import matplotlib.pyplot as plt\n",
    "import numpy as np\n",
    "import pandas as pd\n",
    "import seaborn as sns\n",
    "import os\n",
    "\n",
    "from tensorflow.keras.utils import load_img,img_to_array\n",
    "from tensorflow.keras.preprocessing.image import ImageDataGenerator\n",
    "from keras.layers import Dense,Conv2D,MaxPooling2D,Flatten,BatchNormalization,Dropout,Activation\n",
    "from keras.models import Model,Sequential\n",
    "from keras.optimizers import Adam , SGD\n",
    "import tensorflow as tf"
   ]
  },
  {
   "cell_type": "code",
   "execution_count": 3,
   "id": "34f6a07d-1d9c-4b64-b022-35b4fa8a1aff",
   "metadata": {},
   "outputs": [
    {
     "name": "stdout",
     "output_type": "stream",
     "text": [
      "Found 28709 images belonging to 7 classes.\n",
      "Found 7178 images belonging to 7 classes.\n"
     ]
    }
   ],
   "source": [
    "batch_size = 128\n",
    "picture_size = 48\n",
    "\n",
    "data_train = ImageDataGenerator(rescale=1./255)\n",
    "data_test = ImageDataGenerator(rescale=1./255)\n",
    "\n",
    "train_set = data_train.flow_from_directory(\n",
    "    'train',\n",
    "    target_size = (picture_size,picture_size),\n",
    "    color_mode = 'grayscale',\n",
    "    batch_size = batch_size,\n",
    "    class_mode = 'categorical',\n",
    "    shuffle=True\n",
    ")\n",
    "\n",
    "test_set = data_test.flow_from_directory(\n",
    "    'test',\n",
    "    target_size = (picture_size,picture_size),\n",
    "    color_mode = 'grayscale',\n",
    "    batch_size = batch_size,\n",
    "    class_mode = 'categorical',\n",
    "    shuffle=True\n",
    ")"
   ]
  },
  {
   "cell_type": "code",
   "execution_count": 4,
   "id": "1b119ec5-2ed7-446b-84db-cf0fb7bd8114",
   "metadata": {},
   "outputs": [],
   "source": [
    "no_of_classes = 7\n",
    "\n",
    "model = Sequential()\n",
    "\n",
    "#1st CNN layer\n",
    "model.add(Conv2D(64,(3,3),padding = 'same',input_shape = (48,48,1)))\n",
    "model.add(BatchNormalization())\n",
    "model.add(Activation('relu'))\n",
    "model.add(MaxPooling2D(pool_size = (2,2)))\n",
    "model.add(Dropout(0.25))\n",
    "\n",
    "#2nd CNN layer\n",
    "model.add(Conv2D(128,(5,5),padding = 'same'))\n",
    "model.add(BatchNormalization())\n",
    "model.add(Activation('relu'))\n",
    "model.add(MaxPooling2D(pool_size = (2,2)))\n",
    "model.add(Dropout (0.25))\n",
    "\n",
    "#3rd CNN layer\n",
    "model.add(Conv2D(512,(3,3),padding = 'same'))\n",
    "model.add(BatchNormalization())\n",
    "model.add(Activation('relu'))\n",
    "model.add(MaxPooling2D(pool_size = (2,2)))\n",
    "model.add(Dropout (0.25))\n",
    "\n",
    "#4th CNN layer\n",
    "model.add(Conv2D(512,(3,3), padding='same'))\n",
    "model.add(BatchNormalization())\n",
    "model.add(Activation('relu'))\n",
    "model.add(MaxPooling2D(pool_size=(2, 2)))\n",
    "model.add(Dropout(0.25))\n",
    "\n",
    "model.add(Flatten())\n",
    "\n",
    "#Fully connected 1st layer\n",
    "model.add(Dense(256))\n",
    "model.add(BatchNormalization())\n",
    "model.add(Activation('relu'))\n",
    "model.add(Dropout(0.25))\n",
    "\n",
    "# Fully connected layer 2nd layer\n",
    "model.add(Dense(512))\n",
    "model.add(BatchNormalization())\n",
    "model.add(Activation('relu'))\n",
    "model.add(Dropout(0.25))\n",
    "\n",
    "model.add(Dense(no_of_classes, activation='softmax'))\n",
    "\n",
    "# opt = Adam(learning_rate = 0.0001)\n",
    "# model.compile(optimizer=opt,loss='categorical_crossentropy', metrics=['accuracy'])\n",
    "# model.summary()"
   ]
  },
  {
   "cell_type": "code",
   "execution_count": 5,
   "id": "a1284346-08b0-40ac-bba4-b388b035460a",
   "metadata": {},
   "outputs": [
    {
     "name": "stdout",
     "output_type": "stream",
     "text": [
      "Epoch 1/50\n",
      "225/225 [==============================] - 24s 95ms/step - loss: 2.0013 - accuracy: 0.2312 - val_loss: 1.9008 - val_accuracy: 0.2476\n",
      "Epoch 2/50\n",
      "225/225 [==============================] - 20s 87ms/step - loss: 1.8322 - accuracy: 0.2878 - val_loss: 1.8903 - val_accuracy: 0.2726\n",
      "Epoch 3/50\n",
      "225/225 [==============================] - 20s 87ms/step - loss: 1.7301 - accuracy: 0.3340 - val_loss: 1.6938 - val_accuracy: 0.3277\n",
      "Epoch 4/50\n",
      "225/225 [==============================] - 20s 87ms/step - loss: 1.6551 - accuracy: 0.3632 - val_loss: 1.5787 - val_accuracy: 0.3959\n",
      "Epoch 5/50\n",
      "225/225 [==============================] - 20s 87ms/step - loss: 1.5967 - accuracy: 0.3843 - val_loss: 1.5168 - val_accuracy: 0.4111\n",
      "Epoch 6/50\n",
      "225/225 [==============================] - 20s 87ms/step - loss: 1.5391 - accuracy: 0.4089 - val_loss: 1.5615 - val_accuracy: 0.4081\n",
      "Epoch 7/50\n",
      "225/225 [==============================] - 20s 87ms/step - loss: 1.4824 - accuracy: 0.4299 - val_loss: 1.4848 - val_accuracy: 0.4333\n",
      "Epoch 8/50\n",
      "225/225 [==============================] - 20s 88ms/step - loss: 1.4439 - accuracy: 0.4471 - val_loss: 1.3924 - val_accuracy: 0.4628\n",
      "Epoch 9/50\n",
      "225/225 [==============================] - 20s 87ms/step - loss: 1.4003 - accuracy: 0.4622 - val_loss: 1.3440 - val_accuracy: 0.4845\n",
      "Epoch 10/50\n",
      "225/225 [==============================] - 20s 87ms/step - loss: 1.3578 - accuracy: 0.4795 - val_loss: 1.2916 - val_accuracy: 0.5067\n",
      "Epoch 11/50\n",
      "225/225 [==============================] - 20s 87ms/step - loss: 1.3293 - accuracy: 0.4917 - val_loss: 1.3371 - val_accuracy: 0.4983\n",
      "Epoch 12/50\n",
      "225/225 [==============================] - 20s 87ms/step - loss: 1.2962 - accuracy: 0.5047 - val_loss: 1.2633 - val_accuracy: 0.5192\n",
      "Epoch 13/50\n",
      "225/225 [==============================] - 20s 87ms/step - loss: 1.2694 - accuracy: 0.5145 - val_loss: 1.2221 - val_accuracy: 0.5369\n",
      "Epoch 14/50\n",
      "225/225 [==============================] - 20s 87ms/step - loss: 1.2452 - accuracy: 0.5259 - val_loss: 1.2074 - val_accuracy: 0.5387\n",
      "Epoch 15/50\n",
      "225/225 [==============================] - 20s 87ms/step - loss: 1.2274 - accuracy: 0.5336 - val_loss: 1.2053 - val_accuracy: 0.5504\n",
      "Epoch 16/50\n",
      "225/225 [==============================] - 20s 87ms/step - loss: 1.1918 - accuracy: 0.5451 - val_loss: 1.1673 - val_accuracy: 0.5563\n",
      "Epoch 17/50\n",
      "225/225 [==============================] - 20s 88ms/step - loss: 1.1776 - accuracy: 0.5525 - val_loss: 1.1697 - val_accuracy: 0.5610\n",
      "Epoch 18/50\n",
      "225/225 [==============================] - 20s 87ms/step - loss: 1.1502 - accuracy: 0.5618 - val_loss: 1.1344 - val_accuracy: 0.5720\n",
      "Epoch 19/50\n",
      "225/225 [==============================] - 20s 87ms/step - loss: 1.1402 - accuracy: 0.5656 - val_loss: 1.1344 - val_accuracy: 0.5769\n",
      "Epoch 20/50\n",
      "225/225 [==============================] - 20s 88ms/step - loss: 1.1172 - accuracy: 0.5756 - val_loss: 1.1349 - val_accuracy: 0.5737\n",
      "Epoch 21/50\n",
      "225/225 [==============================] - 20s 87ms/step - loss: 1.0971 - accuracy: 0.5846 - val_loss: 1.1091 - val_accuracy: 0.5841\n",
      "Epoch 22/50\n",
      "225/225 [==============================] - 20s 87ms/step - loss: 1.0806 - accuracy: 0.5933 - val_loss: 1.0895 - val_accuracy: 0.5946\n",
      "Epoch 23/50\n",
      "225/225 [==============================] - 20s 88ms/step - loss: 1.0628 - accuracy: 0.5963 - val_loss: 1.1098 - val_accuracy: 0.5843\n",
      "Epoch 24/50\n",
      "225/225 [==============================] - 20s 88ms/step - loss: 1.0441 - accuracy: 0.6052 - val_loss: 1.1028 - val_accuracy: 0.5908\n",
      "Epoch 25/50\n",
      "225/225 [==============================] - 20s 87ms/step - loss: 1.0344 - accuracy: 0.6076 - val_loss: 1.0720 - val_accuracy: 0.6003\n",
      "Epoch 26/50\n",
      "225/225 [==============================] - 20s 87ms/step - loss: 1.0193 - accuracy: 0.6139 - val_loss: 1.0888 - val_accuracy: 0.5971\n",
      "Epoch 27/50\n",
      "225/225 [==============================] - 20s 87ms/step - loss: 0.9960 - accuracy: 0.6222 - val_loss: 1.0945 - val_accuracy: 0.5993\n",
      "Epoch 28/50\n",
      "225/225 [==============================] - 20s 87ms/step - loss: 0.9850 - accuracy: 0.6283 - val_loss: 1.0910 - val_accuracy: 0.5967\n",
      "Epoch 29/50\n",
      "225/225 [==============================] - 20s 87ms/step - loss: 0.9664 - accuracy: 0.6376 - val_loss: 1.0707 - val_accuracy: 0.6039\n",
      "Epoch 30/50\n",
      "225/225 [==============================] - 20s 87ms/step - loss: 0.9475 - accuracy: 0.6424 - val_loss: 1.0935 - val_accuracy: 0.5993\n",
      "Epoch 31/50\n",
      "225/225 [==============================] - 20s 87ms/step - loss: 0.9322 - accuracy: 0.6489 - val_loss: 1.0752 - val_accuracy: 0.6069\n",
      "Epoch 32/50\n",
      "225/225 [==============================] - 20s 87ms/step - loss: 0.9186 - accuracy: 0.6545 - val_loss: 1.0470 - val_accuracy: 0.6163\n",
      "Epoch 33/50\n",
      "225/225 [==============================] - 20s 88ms/step - loss: 0.9067 - accuracy: 0.6595 - val_loss: 1.0483 - val_accuracy: 0.6186\n",
      "Epoch 34/50\n",
      "225/225 [==============================] - 22s 100ms/step - loss: 0.8826 - accuracy: 0.6693 - val_loss: 1.0373 - val_accuracy: 0.6243\n",
      "Epoch 35/50\n",
      "225/225 [==============================] - 23s 100ms/step - loss: 0.8705 - accuracy: 0.6756 - val_loss: 1.0304 - val_accuracy: 0.6276\n",
      "Epoch 36/50\n",
      "225/225 [==============================] - 20s 90ms/step - loss: 0.8555 - accuracy: 0.6817 - val_loss: 1.0964 - val_accuracy: 0.6106\n",
      "Epoch 37/50\n",
      "225/225 [==============================] - 21s 93ms/step - loss: 0.8369 - accuracy: 0.6843 - val_loss: 1.0242 - val_accuracy: 0.6326\n",
      "Epoch 38/50\n",
      "225/225 [==============================] - 20s 89ms/step - loss: 0.8234 - accuracy: 0.6874 - val_loss: 1.0293 - val_accuracy: 0.6364\n",
      "Epoch 39/50\n",
      "225/225 [==============================] - 20s 91ms/step - loss: 0.8058 - accuracy: 0.6973 - val_loss: 1.0641 - val_accuracy: 0.6265\n",
      "Epoch 40/50\n",
      "225/225 [==============================] - 20s 91ms/step - loss: 0.7930 - accuracy: 0.7058 - val_loss: 1.0197 - val_accuracy: 0.6344\n",
      "Epoch 41/50\n",
      "225/225 [==============================] - 21s 93ms/step - loss: 0.7863 - accuracy: 0.7063 - val_loss: 1.0276 - val_accuracy: 0.6356\n",
      "Epoch 42/50\n",
      "225/225 [==============================] - 21s 93ms/step - loss: 0.7688 - accuracy: 0.7111 - val_loss: 1.0378 - val_accuracy: 0.6318\n",
      "Epoch 43/50\n",
      "225/225 [==============================] - 21s 92ms/step - loss: 0.7482 - accuracy: 0.7185 - val_loss: 1.0552 - val_accuracy: 0.6297\n",
      "Epoch 44/50\n",
      "225/225 [==============================] - 20s 91ms/step - loss: 0.7360 - accuracy: 0.7226 - val_loss: 1.0531 - val_accuracy: 0.6350\n",
      "Epoch 45/50\n",
      "225/225 [==============================] - 20s 90ms/step - loss: 0.7244 - accuracy: 0.7301 - val_loss: 1.0322 - val_accuracy: 0.6369\n",
      "Epoch 46/50\n",
      "225/225 [==============================] - 20s 90ms/step - loss: 0.7093 - accuracy: 0.7357 - val_loss: 1.0668 - val_accuracy: 0.6346\n",
      "Epoch 47/50\n",
      "225/225 [==============================] - 20s 91ms/step - loss: 0.6983 - accuracy: 0.7362 - val_loss: 1.0360 - val_accuracy: 0.6436\n",
      "Epoch 48/50\n",
      "225/225 [==============================] - 20s 88ms/step - loss: 0.6868 - accuracy: 0.7431 - val_loss: 1.0611 - val_accuracy: 0.6368\n",
      "Epoch 49/50\n",
      "225/225 [==============================] - 20s 88ms/step - loss: 0.6692 - accuracy: 0.7504 - val_loss: 1.1312 - val_accuracy: 0.6312\n",
      "Epoch 50/50\n",
      "225/225 [==============================] - 20s 88ms/step - loss: 0.6546 - accuracy: 0.7567 - val_loss: 1.0528 - val_accuracy: 0.6446\n"
     ]
    }
   ],
   "source": [
    "opt = Adam(learning_rate = 0.0001)\n",
    "with tf.device('/GPU:0'):  # Use the first GPU\n",
    "    model.compile(optimizer=opt,loss='categorical_crossentropy', metrics=['accuracy'])\n",
    "    model.fit(train_set, epochs=50,validation_data = test_set)"
   ]
  },
  {
   "cell_type": "code",
   "execution_count": 6,
   "id": "73ebaac2-b051-4e85-8b7e-f98ddab3e333",
   "metadata": {},
   "outputs": [
    {
     "ename": "NameError",
     "evalue": "name 'history' is not defined",
     "output_type": "error",
     "traceback": [
      "\u001b[1;31m---------------------------------------------------------------------------\u001b[0m",
      "\u001b[1;31mNameError\u001b[0m                                 Traceback (most recent call last)",
      "Cell \u001b[1;32mIn[6], line 7\u001b[0m\n\u001b[0;32m      5\u001b[0m plt\u001b[38;5;241m.\u001b[39msuptitle(\u001b[38;5;124m'\u001b[39m\u001b[38;5;124mOptimizer : Adam\u001b[39m\u001b[38;5;124m'\u001b[39m, fontsize\u001b[38;5;241m=\u001b[39m\u001b[38;5;241m10\u001b[39m)\n\u001b[0;32m      6\u001b[0m plt\u001b[38;5;241m.\u001b[39mylabel(\u001b[38;5;124m'\u001b[39m\u001b[38;5;124mLoss\u001b[39m\u001b[38;5;124m'\u001b[39m, fontsize\u001b[38;5;241m=\u001b[39m\u001b[38;5;241m16\u001b[39m)\n\u001b[1;32m----> 7\u001b[0m plt\u001b[38;5;241m.\u001b[39mplot(\u001b[43mhistory\u001b[49m\u001b[38;5;241m.\u001b[39mhistory[\u001b[38;5;124m'\u001b[39m\u001b[38;5;124mloss\u001b[39m\u001b[38;5;124m'\u001b[39m], label\u001b[38;5;241m=\u001b[39m\u001b[38;5;124m'\u001b[39m\u001b[38;5;124mTraining Loss\u001b[39m\u001b[38;5;124m'\u001b[39m)\n\u001b[0;32m      8\u001b[0m plt\u001b[38;5;241m.\u001b[39mplot(history\u001b[38;5;241m.\u001b[39mhistory[\u001b[38;5;124m'\u001b[39m\u001b[38;5;124mval_loss\u001b[39m\u001b[38;5;124m'\u001b[39m], label\u001b[38;5;241m=\u001b[39m\u001b[38;5;124m'\u001b[39m\u001b[38;5;124mValidation Loss\u001b[39m\u001b[38;5;124m'\u001b[39m)\n\u001b[0;32m      9\u001b[0m plt\u001b[38;5;241m.\u001b[39mlegend(loc\u001b[38;5;241m=\u001b[39m\u001b[38;5;124m'\u001b[39m\u001b[38;5;124mupper right\u001b[39m\u001b[38;5;124m'\u001b[39m)\n",
      "\u001b[1;31mNameError\u001b[0m: name 'history' is not defined"
     ]
    },
    {
     "data": {
      "image/png": "[encoded data removed]",
      "text/plain": [
       "<Figure size 2000x1000 with 1 Axes>"
      ]
     },
     "metadata": {},
     "output_type": "display_data"
    }
   ],
   "source": [
    "plt.style.use('dark_background')\n",
    "\n",
    "plt.figure(figsize=(20,10))\n",
    "plt.subplot(1, 2, 1)\n",
    "plt.suptitle('Optimizer : Adam', fontsize=10)\n",
    "plt.ylabel('Loss', fontsize=16)\n",
    "plt.plot(history.history['loss'], label='Training Loss')\n",
    "plt.plot(history.history['val_loss'], label='Validation Loss')\n",
    "plt.legend(loc='upper right')\n",
    "\n",
    "plt.subplot(1, 2, 2)\n",
    "plt.ylabel('Accuracy', fontsize=16)\n",
    "plt.plot(history.history['accuracy'], label='Training Accuracy')\n",
    "plt.plot(history.history['val_accuracy'], label='Validation Accuracy')\n",
    "plt.legend(loc='lower right')\n",
    "plt.show()"
   ]
  },
  {
   "cell_type": "code",
   "execution_count": 7,
   "id": "4095c71e-f3e6-48e7-bcea-8fe684ef99c2",
   "metadata": {},
   "outputs": [],
   "source": [
    "label = ['angry','disgust','fear','happy','neutral','sad','surprise']"
   ]
  },
  {
   "cell_type": "code",
   "execution_count": 8,
   "id": "b65b8255-1edc-4d20-b0e1-87502e305ab8",
   "metadata": {},
   "outputs": [],
   "source": [
    "def ef(image):\n",
    "    img = load_img(image,grayscale =  True )\n",
    "    feature = np.array(img)\n",
    "    feature = feature.reshape(1,48,48,1)\n",
    "    return feature/255.0"
   ]
  },
  {
   "cell_type": "code",
   "execution_count": 9,
   "id": "8f03dcbd-9975-4b47-a770-4fa20eaede1a",
   "metadata": {},
   "outputs": [
    {
     "name": "stdout",
     "output_type": "stream",
     "text": [
      "original image is of angry\n"
     ]
    },
    {
     "name": "stderr",
     "output_type": "stream",
     "text": [
      "D:\\ANACONDA\\envs\\tf_env\\lib\\site-packages\\keras\\utils\\image_utils.py:409: UserWarning: grayscale is deprecated. Please use color_mode = \"grayscale\"\n",
      "  warnings.warn(\n"
     ]
    },
    {
     "name": "stdout",
     "output_type": "stream",
     "text": [
      "1/1 [==============================] - 1s 1s/step\n",
      "model prediction is  angry\n"
     ]
    }
   ],
   "source": [
    "image = 'test/angry/im0.png'\n",
    "print(\"original image is of angry\")\n",
    "img = ef(image)\n",
    "pred = model.predict(img)\n",
    "pred_label = label[pred.argmax()]\n",
    "print(\"model prediction is \",pred_label)"
   ]
  },
  {
   "cell_type": "code",
   "execution_count": 10,
   "id": "e21f74d8-67a4-4a6c-96d1-2d482bcb0554",
   "metadata": {},
   "outputs": [
    {
     "name": "stdout",
     "output_type": "stream",
     "text": [
      "original image is of fear\n",
      "1/1 [==============================] - 0s 31ms/step\n",
      "model prediction is  fear\n"
     ]
    },
    {
     "data": {
      "text/plain": [
       "<matplotlib.image.AxesImage at 0x2ae61fbe080>"
      ]
     },
     "execution_count": 10,
     "metadata": {},
     "output_type": "execute_result"
    },
    {
     "data": {
      "image/png": "[encoded data removed]",
      "text/plain": [
       "<Figure size 640x480 with 1 Axes>"
      ]
     },
     "metadata": {},
     "output_type": "display_data"
    }
   ],
   "source": [
    "image = 'test/fearful/im2.png'\n",
    "print(\"original image is of fear\")\n",
    "img = ef(image)\n",
    "pred = model.predict(img)\n",
    "pred_label = label[pred.argmax()]\n",
    "print(\"model prediction is \",pred_label)\n",
    "plt.imshow(img.reshape(48,48),cmap='gray')"
   ]
  },
  {
   "cell_type": "code",
   "execution_count": 11,
   "id": "2de13233-6ba9-4b24-bd28-eb9d5f46fe8f",
   "metadata": {},
   "outputs": [],
   "source": [
    "model.save('emotion_detection_model.h5')  # Saves entire model (architecture + weights)"
   ]
  },
  {
   "cell_type": "code",
   "execution_count": 12,
   "id": "77ce572a-dfad-4a5c-bc37-f112c086c930",
   "metadata": {},
   "outputs": [],
   "source": [
    "with open('emotion_detection_model.json', 'w') as f:\n",
    "    f.write(model.to_json())\n"
   ]
  }
 ],
 "metadata": {
  "kernelspec": {
   "display_name": "Python 3 (ipykernel)",
   "language": "python",
   "name": "python3"
  },
  "language_info": {
   "codemirror_mode": {
    "name": "ipython",
    "version": 3
   },
   "file_extension": ".py",
   "mimetype": "text/x-python",
   "name": "python",
   "nbconvert_exporter": "python",
   "pygments_lexer": "ipython3",
   "version": "3.10.14"
  }
 },
 "nbformat": 4,
 "nbformat_minor": 5
}
